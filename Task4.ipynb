{
 "cells": [
  {
   "cell_type": "code",
   "execution_count": 12,
   "id": "887a3c75",
   "metadata": {},
   "outputs": [],
   "source": [
    "def comparison1(users_wins):\n",
    "    users_wins=0\n",
    "    if (computer.lower()==\"scissors\" and user.lower()== \"rock\") or (user.lower()==\"scissors\" and computer.lower()==\"paper\") or(user.lower()==\"paper\" and computer.lower()==\"rock\"):\n",
    "        users_wins=users_wins+1\n",
    "    return(users_wins)\n",
    "    "
   ]
  },
  {
   "cell_type": "code",
   "execution_count": 13,
   "id": "c54d68db",
   "metadata": {},
   "outputs": [],
   "source": [
    "def comparison2(a):\n",
    "    a=0\n",
    "    if (user.lower()==\"scissors\" and computer.lower()== \"rock\") or (computer.lower()==\"scissors\" and user.lower()==\"paper\") or( computer.lower()==\"paper\" and user.lower()==\"rock\"):\n",
    "        a=a+1\n",
    "    return(a)"
   ]
  },
  {
   "cell_type": "code",
   "execution_count": 14,
   "id": "33f56f64",
   "metadata": {},
   "outputs": [],
   "source": [
    "def comp():\n",
    "    if comparison1(users_wins)>comparison2(computers_wins):\n",
    "        return(\"the user wins \\nthe computer loses\")\n",
    "    elif comparison1(users_wins)<comparison2(computers_wins):\n",
    "        return(\"the computer wins \\nthe user loses\")\n",
    "    else:\n",
    "        return(\"it's a tie\")\n"
   ]
  },
  {
   "cell_type": "code",
   "execution_count": 15,
   "id": "4666ed19",
   "metadata": {},
   "outputs": [],
   "source": [
    "def ask():\n",
    "    question=input(\"Do you want to play again ?\")\n",
    "    return(question)"
   ]
  },
  {
   "cell_type": "code",
   "execution_count": 19,
   "id": "ceab8847",
   "metadata": {},
   "outputs": [
    {
     "name": "stdout",
     "output_type": "stream",
     "text": [
      "choose :scissors or paper or rock : rock\n",
      "The user's choice is :  rock\n",
      "The computer's choice is :  scissors\n",
      "the user wins \n",
      "the computer loses\n",
      "user's score is :  1\n",
      "computer's score is :  0\n",
      "Do you want to play again ?yes\n",
      "choose :scissors or paper or rock : paper\n",
      "The user's choice is :  paper\n",
      "The computer's choice is :  rock\n",
      "the user wins \n",
      "the computer loses\n",
      "user's score is :  2\n",
      "computer's score is :  0\n",
      "Do you want to play again ?no\n"
     ]
    }
   ],
   "source": [
    "import random\n",
    "users_wins=0\n",
    "computers_wins=0\n",
    "user=input(\"choose :scissors or paper or rock : \")\n",
    "choices = [\"rock\", \"paper\", \"scissors\"]\n",
    "computer = random.choice(choices)\n",
    "print(\"The user's choice is : \",user)\n",
    "print(\"The computer's choice is : \",computer)\n",
    "print(comp())\n",
    "x=comparison1(users_wins)\n",
    "y=comparison2(computers_wins)\n",
    "print(\"user's score is : \",x)\n",
    "print(\"computer's score is : \",y)\n",
    "while not (ask().lower()!=\"yes\"):\n",
    "    user=input(\"choose :scissors or paper or rock : \")\n",
    "    choices = [\"rock\", \"paper\", \"scissors\"]\n",
    "    computer = random.choice(choices)\n",
    "    print(\"The user's choice is : \",user)\n",
    "    print(\"The computer's choice is : \",computer)\n",
    "    print(comp())\n",
    "    x=x+comparison1(users_wins)\n",
    "    y=y+comparison2(computers_wins)\n",
    "    print(\"user's score is : \",x)\n",
    "    print(\"computer's score is : \",y)\n"
   ]
  },
  {
   "cell_type": "code",
   "execution_count": null,
   "id": "da2afe2d",
   "metadata": {},
   "outputs": [],
   "source": []
  }
 ],
 "metadata": {
  "kernelspec": {
   "display_name": "Python 3 (ipykernel)",
   "language": "python",
   "name": "python3"
  },
  "language_info": {
   "codemirror_mode": {
    "name": "ipython",
    "version": 3
   },
   "file_extension": ".py",
   "mimetype": "text/x-python",
   "name": "python",
   "nbconvert_exporter": "python",
   "pygments_lexer": "ipython3",
   "version": "3.11.5"
  }
 },
 "nbformat": 4,
 "nbformat_minor": 5
}

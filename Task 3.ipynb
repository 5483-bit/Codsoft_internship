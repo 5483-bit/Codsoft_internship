{
 "cells": [
  {
   "cell_type": "code",
   "execution_count": 1,
   "id": "b4b0154c",
   "metadata": {},
   "outputs": [
    {
     "name": "stdout",
     "output_type": "stream",
     "text": [
      "What's the length of the password6\n",
      "sNayCn\n"
     ]
    }
   ],
   "source": [
    "import random\n",
    "n=int(input(\"What's the length of the password\"))\n",
    "ch=\"\"\n",
    "for i in range (n):\n",
    "    k=random.randint(65,122)\n",
    "    if 91<=k<=96:\n",
    "        ch=ch\n",
    "    else:\n",
    "        ch=ch+chr(k)\n",
    "print(ch)"
   ]
  },
  {
   "cell_type": "code",
   "execution_count": null,
   "id": "55f5dcf6",
   "metadata": {},
   "outputs": [],
   "source": []
  }
 ],
 "metadata": {
  "kernelspec": {
   "display_name": "Python 3 (ipykernel)",
   "language": "python",
   "name": "python3"
  },
  "language_info": {
   "codemirror_mode": {
    "name": "ipython",
    "version": 3
   },
   "file_extension": ".py",
   "mimetype": "text/x-python",
   "name": "python",
   "nbconvert_exporter": "python",
   "pygments_lexer": "ipython3",
   "version": "3.11.5"
  }
 },
 "nbformat": 4,
 "nbformat_minor": 5
}

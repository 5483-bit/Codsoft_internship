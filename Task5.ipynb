{
 "cells": [
  {
   "cell_type": "code",
   "execution_count": 1,
   "id": "e8390e02",
   "metadata": {},
   "outputs": [],
   "source": [
    "def add_contact():\n",
    "    c={}\n",
    "    c[\"name\"]=input(\"the name\")\n",
    "    c[\"phone number\"]=input(\"the phone number\")\n",
    "    c[\" email\"]=input(\" email\") \n",
    "    c[\" address\"]=input(\"address\")\n",
    "    return c"
   ]
  },
  {
   "cell_type": "code",
   "execution_count": 2,
   "id": "8af05c5b",
   "metadata": {},
   "outputs": [],
   "source": [
    "def view():\n",
    "    for x in l:\n",
    "        print(x)"
   ]
  },
  {
   "cell_type": "code",
   "execution_count": 3,
   "id": "646efa4a",
   "metadata": {},
   "outputs": [],
   "source": [
    "def search():\n",
    "    x=input(\"user's name\")\n",
    "    i=1\n",
    "    j=0\n",
    "    while i<=len(l):\n",
    "        d=list(l[i-1].values())\n",
    "        if d[0].upper()==x.upper():\n",
    "            j=j+1\n",
    "        else:\n",
    "            j=j-1\n",
    "        i=i+1\n",
    "    if j<0:\n",
    "        return(\"it doesn't exist\")\n",
    "    else:\n",
    "        return(\"it exists\")"
   ]
  },
  {
   "cell_type": "code",
   "execution_count": 4,
   "id": "108e3aa1",
   "metadata": {},
   "outputs": [],
   "source": [
    "def update_contact():\n",
    "    question=input(\"Do you want to update a contact ?\")\n",
    "    return(question)"
   ]
  },
  {
   "cell_type": "code",
   "execution_count": 5,
   "id": "b04a1ad9",
   "metadata": {},
   "outputs": [],
   "source": [
    "def delete():\n",
    "    x=input(\"user's name\")\n",
    "    i=1\n",
    "    while i<=len(l):\n",
    "        d=list(l[i-1].values())\n",
    "        if d[0].upper()==x.upper():\n",
    "            del(l[i-1])\n",
    "        i=i+1\n",
    "    return l"
   ]
  },
  {
   "cell_type": "code",
   "execution_count": 9,
   "id": "34b74f74",
   "metadata": {},
   "outputs": [
    {
     "name": "stdout",
     "output_type": "stream",
     "text": [
      "how many contacts do you have ?2\n",
      "the namem\n",
      "the phone numberl\n",
      " emailk\n",
      "addressj\n",
      "the namea\n",
      "the phone numberz\n",
      " emaile\n",
      "addressr\n",
      "{'name': 'm', 'phone number': 'l', ' email': 'k', ' address': 'j'}\n",
      "{'name': 'a', 'phone number': 'z', ' email': 'e', ' address': 'r'}\n",
      "None\n",
      "user's namem\n",
      "it exists\n",
      "Do you want to update a contact ?yes\n",
      "the number of contact you want to update : 0\n",
      "the namei\n",
      "the phone numbero\n",
      " emailp\n",
      "addressu\n",
      "Do you want to update a contact ?no\n",
      "[{'name': 'i', 'phone number': 'o', 'email': 'p', 'address': 'u'}, {'name': 'a', 'phone number': 'z', ' email': 'e', ' address': 'r'}]\n",
      "user's namea\n",
      "[{'name': 'i', 'phone number': 'o', 'email': 'p', 'address': 'u'}]\n"
     ]
    }
   ],
   "source": [
    "l=[]\n",
    "n=int(input(\"how many contacts do you have ?\"))\n",
    "for i in range (n):\n",
    "    c=add_contact()\n",
    "    l.append(c)\n",
    "print(view())\n",
    "print(search())\n",
    "while not ((update_contact()).upper()!=\"YES\"):\n",
    "    x=int(input(\"the number of contact you want to update : \"))\n",
    "    c={}\n",
    "    c[\"name\"]=input(\"the name\")\n",
    "    c[\"phone number\"]=input(\"the phone number\")\n",
    "    c[\"email\"]=input(\" email\") \n",
    "    c[\"address\"]=input(\"address\")\n",
    "    l[x]=c\n",
    "print(l)\n",
    "print(delete())"
   ]
  },
  {
   "cell_type": "code",
   "execution_count": null,
   "id": "8d8f7648",
   "metadata": {},
   "outputs": [],
   "source": []
  }
 ],
 "metadata": {
  "kernelspec": {
   "display_name": "Python 3 (ipykernel)",
   "language": "python",
   "name": "python3"
  },
  "language_info": {
   "codemirror_mode": {
    "name": "ipython",
    "version": 3
   },
   "file_extension": ".py",
   "mimetype": "text/x-python",
   "name": "python",
   "nbconvert_exporter": "python",
   "pygments_lexer": "ipython3",
   "version": "3.11.5"
  }
 },
 "nbformat": 4,
 "nbformat_minor": 5
}

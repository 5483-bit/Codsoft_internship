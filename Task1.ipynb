{
 "cells": [
  {
   "cell_type": "code",
   "execution_count": 1,
   "id": "0f3b831c",
   "metadata": {},
   "outputs": [],
   "source": [
    "def ask_task():\n",
    "    question=input(\"Do you want to add another task ?\")\n",
    "    return(question)"
   ]
  },
  {
   "cell_type": "code",
   "execution_count": 2,
   "id": "417ee21d",
   "metadata": {},
   "outputs": [],
   "source": [
    "def update_task():\n",
    "    question=input(\"Do you want to update another task ?\")\n",
    "    return(question)"
   ]
  },
  {
   "cell_type": "code",
   "execution_count": 3,
   "id": "da9973ac",
   "metadata": {},
   "outputs": [],
   "source": [
    "def aff():\n",
    "    for i in range(0,len(ch)):\n",
    "        if i!=x:\n",
    "            print(\"Task\",i,\":\",ch[i],\": Not done yet\")\n",
    "        else:\n",
    "            print(\"Task\",x,\":\",ch[x],\": done\")"
   ]
  },
  {
   "cell_type": "code",
   "execution_count": 4,
   "id": "9d7b5b56",
   "metadata": {},
   "outputs": [
    {
     "name": "stdout",
     "output_type": "stream",
     "text": [
      "What's your task? : go\n",
      "Task added\n",
      "Do you want to add another task ?yes\n",
      "What's your task? : play\n",
      "Task added\n",
      "Do you want to add another task ?no\n",
      "Task 0 : go : Not done yet\n",
      "Task 1 : play : Not done yet\n",
      "Do you want to update another task ?no\n",
      "The number of the task you have completed ?0\n",
      "Task 0 : go : done\n",
      "Task 1 : play : Not done yet\n",
      "None\n"
     ]
    }
   ],
   "source": [
    "task=input(\"What's your task? : \")\n",
    "print(\"Task added\")\n",
    "ch=[]\n",
    "ch.append(task)\n",
    "while not ((ask_task()).upper()!=\"YES\"):\n",
    "    task=input(\"What's your task? : \")\n",
    "    print(\"Task added\")\n",
    "    ch.append(task)\n",
    "for i in range(len(ch)):\n",
    "    print(\"Task\",i,\":\",ch[i],\": Not done yet\")\n",
    "while not ((update_task()).upper()!=\"YES\"):\n",
    "    n=int(input(\"The number of the task you want to update ?\"))\n",
    "    task_updated=input(\"What's your updated task? : \")\n",
    "    ch[n]=task_updated\n",
    "    for i in range(len(ch)):\n",
    "        print(\"Task\",i,\":\",ch[i],\": Not done yet\")\n",
    "x=int(input(\"The number of the task you have completed ?\"))\n",
    "print( aff())"
   ]
  },
  {
   "cell_type": "code",
   "execution_count": null,
   "id": "ecc4134a",
   "metadata": {},
   "outputs": [],
   "source": []
  }
 ],
 "metadata": {
  "kernelspec": {
   "display_name": "Python 3 (ipykernel)",
   "language": "python",
   "name": "python3"
  },
  "language_info": {
   "codemirror_mode": {
    "name": "ipython",
    "version": 3
   },
   "file_extension": ".py",
   "mimetype": "text/x-python",
   "name": "python",
   "nbconvert_exporter": "python",
   "pygments_lexer": "ipython3",
   "version": "3.11.5"
  }
 },
 "nbformat": 4,
 "nbformat_minor": 5
}
